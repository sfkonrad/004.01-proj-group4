{
 "cells": [
  {
   "cell_type": "markdown",
   "metadata": {},
   "source": [
    "# CODE.MAIN [004-proj-group4](https://ucbvirtfinpt1-0wq9671.slack.com/archives/G01MPSXMKQE)\n",
    "(POSSIBLE DRAFT CONSIDERATION)"
   ]
  },
  {
   "cell_type": "markdown",
   "metadata": {},
   "source": [
    "### In this challenge, we began work on our first collaborative project of the course. Our Challenge was to: \n",
    ">  ## 1) Analyze a real-world FinTech problem\n",
    "\n",
    "> ## 2) Develop an Application that solves that FinTech problem \n",
    "\n",
    "### The problem we analyzed and the corresponding FinTech Application we developed are deliverables that required us to determine and arrive at a mutual agreement upon the scope of the team's sanalysis. Our use case is presented as follows..."
   ]
  },
  {
   "cell_type": "markdown",
   "metadata": {},
   "source": [
    "---"
   ]
  },
  {
   "cell_type": "markdown",
   "metadata": {},
   "source": [
    "### **PurpleSky** is a popular retail business establishment in San Francisco's bustling Mission District community. The doors of this belovedly understated storefront have been open for business since 2013.\n",
    "\n",
    "What differentiates them from the competition are Value, Quality, Value again, Customer Experience, and Value again.\n",
    "\n",
    "**`GREAT NEWS!`** **PurpleSky**'s Executive Management has just received approval from their legal team and core investors to move forward with development of the business's first satellite retail location. This will be a particularly challenging decision because the new location will be outside of California; in the **Seattle-Tacoma-Bellevue MSA**. The Board has seen the work presented in our team's collective and individual **Github** repositories and they were eager to hire us for the job! Our objective was to employ critical market data to pinpoint the precise street and block that would make this new location as successful as the original.\n",
    "\n",
    "The Board had further stipulated the new location would need to adhere to a rigorous set of criteria that considered the following parameters:\n",
    "> 1. Be located on Seattle's Eastside.\n",
    "> 2. Meet standards for pedestrian foot traffic and walkability to/from geographic locations (coordinates, zips) where a higher propensity of professionals and high net-worth consumers are expected to converge.\n",
    "> 3. Embody a presence of community in the new neighborhood where **PurpleSky** could eventually fully assimilate.\n",
    "> 4. Meet the client-unique requirement that the new storefront must be in compliance with local zoning and land use regulations allowing the public sale and distribution of recreational cannabis products.\n",
    "\n",
    "Identifying retail locations where wealthy consumers congregate, remain for a period of time, and are likely to spend money had been a challenge for the client's decision makers considering the state of the present COViD Economy."
   ]
  },
  {
   "cell_type": "markdown",
   "metadata": {},
   "source": [
    "---"
   ]
  },
  {
   "cell_type": "markdown",
   "metadata": {},
   "source": [
    "# Datasets\n",
    "\n",
    "### 1. **Zillow APIs**\n",
    "### 2. **Yelp! APIs**\n",
    "### 3. **Income Statistics APIs**\n",
    "### 4. **Tesla Supercharger Station APIs**\n",
    "### 5. **County/City Zoning and Land Use Database(s)**\n",
    "\n",
    "---"
   ]
  },
  {
   "cell_type": "markdown",
   "metadata": {},
   "source": [
    "# Visuals\n",
    "\n",
    "Tables\n",
    "> 50_tscs\n",
    "\n",
    "\n",
    "\n",
    "Charts\n",
    "> 50_tscs distributions by type \n",
    "\n",
    "> `$`,`$$`,`$$$` distributions\n",
    "\n",
    "> `⭐` rating distributions \n",
    "\n",
    "> total # of ratings/reviews⚠️\n",
    "\n",
    "\n",
    "\n",
    "Plots(maps)\n",
    "\n",
    "> Yelps_locs\n",
    "\n",
    "> TScS_locs\n",
    "\n",
    "> YoY_Growth_high (filter)\n",
    "\n",
    "> Income_high (filter)\n",
    "\n",
    "> Zoning_Ok\n",
    "\n",
    "\n",
    "\n",
    "### **Now, let's pull it all together to compose/conclude the recommendation.**\n"
   ]
  },
  {
   "cell_type": "markdown",
   "metadata": {},
   "source": []
  },
  {
   "cell_type": "markdown",
   "metadata": {},
   "source": []
  },
  {
   "cell_type": "markdown",
   "metadata": {},
   "source": []
  },
  {
   "cell_type": "markdown",
   "metadata": {},
   "source": []
  },
  {
   "cell_type": "markdown",
   "metadata": {},
   "source": []
  },
  {
   "cell_type": "markdown",
   "metadata": {},
   "source": []
  },
  {
   "cell_type": "markdown",
   "metadata": {},
   "source": [
    "---"
   ]
  },
  {
   "cell_type": "markdown",
   "metadata": {},
   "source": []
  },
  {
   "cell_type": "markdown",
   "metadata": {},
   "source": []
  },
  {
   "cell_type": "markdown",
   "metadata": {},
   "source": []
  },
  {
   "cell_type": "markdown",
   "metadata": {},
   "source": []
  },
  {
   "cell_type": "markdown",
   "metadata": {},
   "source": []
  },
  {
   "cell_type": "markdown",
   "metadata": {},
   "source": []
  },
  {
   "cell_type": "markdown",
   "metadata": {},
   "source": []
  },
  {
   "cell_type": "markdown",
   "metadata": {},
   "source": []
  },
  {
   "cell_type": "markdown",
   "metadata": {},
   "source": []
  },
  {
   "cell_type": "markdown",
   "metadata": {},
   "source": []
  },
  {
   "cell_type": "markdown",
   "metadata": {},
   "source": []
  },
  {
   "cell_type": "markdown",
   "metadata": {},
   "source": []
  },
  {
   "cell_type": "markdown",
   "metadata": {},
   "source": []
  },
  {
   "cell_type": "markdown",
   "metadata": {},
   "source": []
  },
  {
   "cell_type": "markdown",
   "metadata": {},
   "source": []
  },
  {
   "cell_type": "markdown",
   "metadata": {},
   "source": [
    "**`CONGRATS!`** The team did such great work helping **PurpleSky** find their next location, the board has green-lit investment in *group-004'*s new FinTech consulting firm. We now have the resources to develop a commercial application of the program.py that will help other burgeoning cannabis dispensaries find that ideal location for their next store's location. Which will come in handy (and profitable!) with the approaching imminent arrival of Federal decriminalization of cannabis use.\n",
    "\n",
    "---"
   ]
  },
  {
   "cell_type": "markdown",
   "metadata": {},
   "source": [
    "# Credits\n",
    " Ally\n",
    "\n",
    ">Role(s)\n",
    "\n",
    ">> Lead, Project Management\n",
    "\n",
    ">> Lead, Housing Statistics\n",
    "\n",
    "> Programming\n",
    "\n",
    ">> Zillow Historical Housing Stats APIs and data\n",
    "\n",
    ">> SFR YoY Projected Growth APIs and data\n",
    "\n",
    "\n",
    "\n",
    "\n",
    " Alejandra\n",
    "\n",
    "> Role(s)\n",
    "\n",
    ">> Lead, APIs\n",
    "\n",
    ">> Co-Lead, Program Design\n",
    "\n",
    "> Programming\n",
    "\n",
    ">> Yelp! APIs and data\n",
    "\n",
    ">> Income Stat APIs and data\n",
    "\n",
    "\n",
    " Ehab\n",
    "\n",
    "> Role(s)\n",
    "\n",
    ">> Lead, Logic and User Stories\n",
    "\n",
    ">> Co-Lead, Program Design\n",
    "\n",
    "> Programming\n",
    "\n",
    ">> Tesla Supercharger Station APIs and data\n",
    "\n",
    ">> Zoning and Land Use Requirements\n",
    "\n",
    "\n",
    " Konrad\n",
    "> Role(s)\n",
    ">>\n",
    ">>\n",
    "> Programming \n",
    ">>\n",
    ">>\n"
   ]
  },
  {
   "cell_type": "code",
   "execution_count": null,
   "metadata": {},
   "outputs": [],
   "source": []
  }
 ],
 "metadata": {
  "kernelspec": {
   "display_name": "Python (dev)",
   "language": "python",
   "name": "dev"
  },
  "language_info": {
   "codemirror_mode": {
    "name": "ipython",
    "version": 3
   },
   "file_extension": ".py",
   "mimetype": "text/x-python",
   "name": "python",
   "nbconvert_exporter": "python",
   "pygments_lexer": "ipython3",
   "version": "3.7.9"
  }
 },
 "nbformat": 4,
 "nbformat_minor": 4
}
