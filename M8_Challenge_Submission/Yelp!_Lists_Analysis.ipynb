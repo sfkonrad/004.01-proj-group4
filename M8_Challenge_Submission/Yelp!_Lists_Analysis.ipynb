{
 "cells": [
  {
   "cell_type": "markdown",
   "metadata": {},
   "source": [
    "# Yelp! Lists Analysis"
   ]
  },
  {
   "cell_type": "markdown",
   "metadata": {},
   "source": []
  },
  {
   "cell_type": "markdown",
   "metadata": {},
   "source": [
    "50 Closest Yelp!s to `tscs` lat/lon coordinates\n",
    "\n",
    "> `tscs` = Tesla Supercharger Station\n",
    "\n",
    "> print(f\"TScS.{tscs_id}\")\n",
    "\n",
    "> 50_yelps_by_tscs\n",
    "\n",
    ">> analysis_df for every List of 50\n",
    "\n",
    ">> Business Type Distributions (example: 30% retail, 40% food_service, 10% Office, 20% \n",
    "Other(anything <10% aggregates to Other\"))\n",
    "\n",
    ">> `$`,`$$`,`$$$` distributions\n",
    "\n",
    ">> `⭐` rating distributions\n",
    "\n",
    "> \n",
    "> \n",
    "> \n",
    "> \n",
    "\n",
    "> `user_business_type` checkboxes (questionary) {inverse exclusion} will filter for absence/necessity of user's business type OR for complimentary business_types\n",
    "> \n",
    "\n",
    "> Yelp! 50_list Densities (are the 50 for that lat/lon coordinate in high density cluster(s) or spread out w/ a lower density ?\n",
    "> \n",
    "> \n",
    "> \n",
    "> \n"
   ]
  },
  {
   "cell_type": "markdown",
   "metadata": {},
   "source": []
  },
  {
   "cell_type": "markdown",
   "metadata": {},
   "source": []
  },
  {
   "cell_type": "markdown",
   "metadata": {},
   "source": []
  },
  {
   "cell_type": "markdown",
   "metadata": {},
   "source": []
  },
  {
   "cell_type": "markdown",
   "metadata": {},
   "source": []
  },
  {
   "cell_type": "markdown",
   "metadata": {},
   "source": []
  },
  {
   "cell_type": "markdown",
   "metadata": {},
   "source": []
  },
  {
   "cell_type": "markdown",
   "metadata": {},
   "source": []
  },
  {
   "cell_type": "markdown",
   "metadata": {},
   "source": []
  }
 ],
 "metadata": {
  "kernelspec": {
   "display_name": "Python (dev)",
   "language": "python",
   "name": "dev"
  },
  "language_info": {
   "codemirror_mode": {
    "name": "ipython",
    "version": 3
   },
   "file_extension": ".py",
   "mimetype": "text/x-python",
   "name": "python",
   "nbconvert_exporter": "python",
   "pygments_lexer": "ipython3",
   "version": "3.7.9"
  }
 },
 "nbformat": 4,
 "nbformat_minor": 4
}
